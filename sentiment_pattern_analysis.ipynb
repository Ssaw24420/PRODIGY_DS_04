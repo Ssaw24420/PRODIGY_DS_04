{
 "cells": [
  {
   "cell_type": "markdown",
   "id": "66f8e705",
   "metadata": {},
   "source": [
    "# Problem Statement"
   ]
  },
  {
   "cell_type": "markdown",
   "id": "e02cea29",
   "metadata": {},
   "source": [
    "Analyze and visualize sentiment patterns in social media data to understand public opinion and attitudes towards specific topics or brands."
   ]
  },
  {
   "cell_type": "markdown",
   "id": "eb5d5cfc",
   "metadata": {},
   "source": [
    "# Importing Libraries"
   ]
  },
  {
   "cell_type": "code",
   "execution_count": 1,
   "id": "062930d9",
   "metadata": {},
   "outputs": [],
   "source": [
    "import numpy as np\n",
    "import pandas as pd\n",
    "import matplotlib.pyplot as plt\n",
    "import seaborn as sns\n",
    "import warnings \n",
    "warnings.filterwarnings('ignore')\n",
    "import os"
   ]
  },
  {
   "cell_type": "markdown",
   "id": "32117b95",
   "metadata": {},
   "source": [
    "# Loading the Dataset"
   ]
  },
  {
   "cell_type": "code",
   "execution_count": 2,
   "id": "f7dadcbf",
   "metadata": {},
   "outputs": [],
   "source": [
    "col=['Id' , 'Entity' , 'Sentiment' , 'Content']\n",
    "df_train=pd.read_excel(\"C:\\\\Users\\\\suraj\\\\Downloads\\\\Twitter_data.xlsx\" , names=col)"
   ]
  },
  {
   "cell_type": "code",
   "execution_count": 4,
   "id": "f6df2828",
   "metadata": {},
   "outputs": [],
   "source": [
    "df_test=pd.read_excel(\"C:\\\\Users\\\\suraj\\\\Downloads\\\\Twitter_data.xlsx\", names=col)"
   ]
  },
  {
   "cell_type": "code",
   "execution_count": 5,
   "id": "2e02e13c",
   "metadata": {},
   "outputs": [
    {
     "data": {
      "text/html": [
       "<div>\n",
       "<style scoped>\n",
       "    .dataframe tbody tr th:only-of-type {\n",
       "        vertical-align: middle;\n",
       "    }\n",
       "\n",
       "    .dataframe tbody tr th {\n",
       "        vertical-align: top;\n",
       "    }\n",
       "\n",
       "    .dataframe thead th {\n",
       "        text-align: right;\n",
       "    }\n",
       "</style>\n",
       "<table border=\"1\" class=\"dataframe\">\n",
       "  <thead>\n",
       "    <tr style=\"text-align: right;\">\n",
       "      <th></th>\n",
       "      <th>Id</th>\n",
       "      <th>Entity</th>\n",
       "      <th>Sentiment</th>\n",
       "      <th>Content</th>\n",
       "    </tr>\n",
       "  </thead>\n",
       "  <tbody>\n",
       "    <tr>\n",
       "      <th>0</th>\n",
       "      <td>2401</td>\n",
       "      <td>Borderlands</td>\n",
       "      <td>Positive</td>\n",
       "      <td>I am coming to the borders and I will kill you...</td>\n",
       "    </tr>\n",
       "    <tr>\n",
       "      <th>1</th>\n",
       "      <td>2401</td>\n",
       "      <td>Borderlands</td>\n",
       "      <td>Positive</td>\n",
       "      <td>im getting on borderlands and i will kill you ...</td>\n",
       "    </tr>\n",
       "    <tr>\n",
       "      <th>2</th>\n",
       "      <td>2401</td>\n",
       "      <td>Borderlands</td>\n",
       "      <td>Positive</td>\n",
       "      <td>im coming on borderlands and i will murder you...</td>\n",
       "    </tr>\n",
       "    <tr>\n",
       "      <th>3</th>\n",
       "      <td>2401</td>\n",
       "      <td>Borderlands</td>\n",
       "      <td>Positive</td>\n",
       "      <td>im getting on borderlands 2 and i will murder ...</td>\n",
       "    </tr>\n",
       "    <tr>\n",
       "      <th>4</th>\n",
       "      <td>2401</td>\n",
       "      <td>Borderlands</td>\n",
       "      <td>Positive</td>\n",
       "      <td>im getting into borderlands and i can murder y...</td>\n",
       "    </tr>\n",
       "    <tr>\n",
       "      <th>...</th>\n",
       "      <td>...</td>\n",
       "      <td>...</td>\n",
       "      <td>...</td>\n",
       "      <td>...</td>\n",
       "    </tr>\n",
       "    <tr>\n",
       "      <th>74676</th>\n",
       "      <td>9200</td>\n",
       "      <td>Nvidia</td>\n",
       "      <td>Positive</td>\n",
       "      <td>Just realized that the Windows partition of my...</td>\n",
       "    </tr>\n",
       "    <tr>\n",
       "      <th>74677</th>\n",
       "      <td>9200</td>\n",
       "      <td>Nvidia</td>\n",
       "      <td>Positive</td>\n",
       "      <td>Just realized that my Mac window partition is ...</td>\n",
       "    </tr>\n",
       "    <tr>\n",
       "      <th>74678</th>\n",
       "      <td>9200</td>\n",
       "      <td>Nvidia</td>\n",
       "      <td>Positive</td>\n",
       "      <td>Just realized the windows partition of my Mac ...</td>\n",
       "    </tr>\n",
       "    <tr>\n",
       "      <th>74679</th>\n",
       "      <td>9200</td>\n",
       "      <td>Nvidia</td>\n",
       "      <td>Positive</td>\n",
       "      <td>Just realized between the windows partition of...</td>\n",
       "    </tr>\n",
       "    <tr>\n",
       "      <th>74680</th>\n",
       "      <td>9200</td>\n",
       "      <td>Nvidia</td>\n",
       "      <td>Positive</td>\n",
       "      <td>Just like the windows partition of my Mac is l...</td>\n",
       "    </tr>\n",
       "  </tbody>\n",
       "</table>\n",
       "<p>74681 rows × 4 columns</p>\n",
       "</div>"
      ],
      "text/plain": [
       "         Id       Entity Sentiment  \\\n",
       "0      2401  Borderlands  Positive   \n",
       "1      2401  Borderlands  Positive   \n",
       "2      2401  Borderlands  Positive   \n",
       "3      2401  Borderlands  Positive   \n",
       "4      2401  Borderlands  Positive   \n",
       "...     ...          ...       ...   \n",
       "74676  9200       Nvidia  Positive   \n",
       "74677  9200       Nvidia  Positive   \n",
       "74678  9200       Nvidia  Positive   \n",
       "74679  9200       Nvidia  Positive   \n",
       "74680  9200       Nvidia  Positive   \n",
       "\n",
       "                                                 Content  \n",
       "0      I am coming to the borders and I will kill you...  \n",
       "1      im getting on borderlands and i will kill you ...  \n",
       "2      im coming on borderlands and i will murder you...  \n",
       "3      im getting on borderlands 2 and i will murder ...  \n",
       "4      im getting into borderlands and i can murder y...  \n",
       "...                                                  ...  \n",
       "74676  Just realized that the Windows partition of my...  \n",
       "74677  Just realized that my Mac window partition is ...  \n",
       "74678  Just realized the windows partition of my Mac ...  \n",
       "74679  Just realized between the windows partition of...  \n",
       "74680  Just like the windows partition of my Mac is l...  \n",
       "\n",
       "[74681 rows x 4 columns]"
      ]
     },
     "execution_count": 5,
     "metadata": {},
     "output_type": "execute_result"
    }
   ],
   "source": [
    "df_train"
   ]
  },
  {
   "cell_type": "markdown",
   "id": "e5027cc5",
   "metadata": {},
   "source": [
    "# Data Overview"
   ]
  },
  {
   "cell_type": "code",
   "execution_count": 6,
   "id": "241c68a6",
   "metadata": {},
   "outputs": [
    {
     "data": {
      "text/plain": [
       "(74681, 4)"
      ]
     },
     "execution_count": 6,
     "metadata": {},
     "output_type": "execute_result"
    }
   ],
   "source": [
    "df_train.shape"
   ]
  },
  {
   "cell_type": "code",
   "execution_count": 7,
   "id": "cd3411e4",
   "metadata": {},
   "outputs": [
    {
     "data": {
      "text/plain": [
       "Index(['Id', 'Entity', 'Sentiment', 'Content'], dtype='object')"
      ]
     },
     "execution_count": 7,
     "metadata": {},
     "output_type": "execute_result"
    }
   ],
   "source": [
    "df_train.columns"
   ]
  },
  {
   "cell_type": "code",
   "execution_count": 8,
   "id": "a6cb2e92",
   "metadata": {},
   "outputs": [
    {
     "name": "stdout",
     "output_type": "stream",
     "text": [
      "<class 'pandas.core.frame.DataFrame'>\n",
      "RangeIndex: 74681 entries, 0 to 74680\n",
      "Data columns (total 4 columns):\n",
      " #   Column     Non-Null Count  Dtype \n",
      "---  ------     --------------  ----- \n",
      " 0   Id         74681 non-null  int64 \n",
      " 1   Entity     74681 non-null  object\n",
      " 2   Sentiment  74681 non-null  object\n",
      " 3   Content    73995 non-null  object\n",
      "dtypes: int64(1), object(3)\n",
      "memory usage: 2.3+ MB\n"
     ]
    }
   ],
   "source": [
    "df_train.info()"
   ]
  },
  {
   "cell_type": "code",
   "execution_count": 9,
   "id": "9d9eb4f5",
   "metadata": {},
   "outputs": [
    {
     "data": {
      "text/plain": [
       "Id            int64\n",
       "Entity       object\n",
       "Sentiment    object\n",
       "Content      object\n",
       "dtype: object"
      ]
     },
     "execution_count": 9,
     "metadata": {},
     "output_type": "execute_result"
    }
   ],
   "source": [
    "df_train.dtypes"
   ]
  },
  {
   "cell_type": "markdown",
   "id": "13e07277",
   "metadata": {},
   "source": [
    "# Data Cleaning"
   ]
  },
  {
   "cell_type": "code",
   "execution_count": 10,
   "id": "7d0f91b4",
   "metadata": {},
   "outputs": [
    {
     "data": {
      "text/plain": [
       "Id             0\n",
       "Entity         0\n",
       "Sentiment      0\n",
       "Content      686\n",
       "dtype: int64"
      ]
     },
     "execution_count": 10,
     "metadata": {},
     "output_type": "execute_result"
    }
   ],
   "source": [
    "df_train.isnull().sum()"
   ]
  },
  {
   "cell_type": "code",
   "execution_count": 11,
   "id": "0c17bd11",
   "metadata": {},
   "outputs": [],
   "source": [
    "df_train.dropna(subset=['Content'] , inplace=True)"
   ]
  },
  {
   "cell_type": "code",
   "execution_count": 12,
   "id": "07c7c209",
   "metadata": {},
   "outputs": [
    {
     "data": {
      "text/plain": [
       "(73995, 4)"
      ]
     },
     "execution_count": 12,
     "metadata": {},
     "output_type": "execute_result"
    }
   ],
   "source": [
    "df_train.shape"
   ]
  },
  {
   "cell_type": "code",
   "execution_count": 13,
   "id": "e592aaf2",
   "metadata": {},
   "outputs": [
    {
     "data": {
      "text/plain": [
       "array(['Positive', 'Neutral', 'Negative', 'Irrelevant'], dtype=object)"
      ]
     },
     "execution_count": 13,
     "metadata": {},
     "output_type": "execute_result"
    }
   ],
   "source": [
    "df_train.Sentiment.unique()"
   ]
  },
  {
   "cell_type": "code",
   "execution_count": 14,
   "id": "8b5bbc0a",
   "metadata": {},
   "outputs": [],
   "source": [
    "df_train.Sentiment=df_train.Sentiment.replace('Irrelevant' , 'Neutral')\n",
    "df_test.Sentiment=df_test.Sentiment.replace('Irrelevant' , 'Neutral')"
   ]
  },
  {
   "cell_type": "code",
   "execution_count": 15,
   "id": "d2c535ee",
   "metadata": {},
   "outputs": [
    {
     "data": {
      "text/plain": [
       "array(['Positive', 'Neutral', 'Negative'], dtype=object)"
      ]
     },
     "execution_count": 15,
     "metadata": {},
     "output_type": "execute_result"
    }
   ],
   "source": [
    "df_train.Sentiment.unique()"
   ]
  },
  {
   "cell_type": "code",
   "execution_count": 16,
   "id": "758030ab",
   "metadata": {},
   "outputs": [
    {
     "data": {
      "text/plain": [
       "array(['Positive', 'Neutral', 'Negative'], dtype=object)"
      ]
     },
     "execution_count": 16,
     "metadata": {},
     "output_type": "execute_result"
    }
   ],
   "source": [
    "df_test.Sentiment.unique()"
   ]
  },
  {
   "cell_type": "markdown",
   "id": "555a9877",
   "metadata": {},
   "source": [
    "# Exploratary Data Analysis"
   ]
  },
  {
   "cell_type": "code",
   "execution_count": 17,
   "id": "e002f3c9",
   "metadata": {},
   "outputs": [
    {
     "data": {
      "text/plain": [
       "Neutral     30983\n",
       "Negative    22358\n",
       "Positive    20654\n",
       "Name: Sentiment, dtype: int64"
      ]
     },
     "execution_count": 17,
     "metadata": {},
     "output_type": "execute_result"
    }
   ],
   "source": [
    "sentiment_count=df_train.Sentiment.value_counts()\n",
    "sentiment_count"
   ]
  },
  {
   "cell_type": "code",
   "execution_count": 18,
   "id": "8114544c",
   "metadata": {},
   "outputs": [
    {
     "data": {
      "image/png": "[encoded data removed]",
      "text/plain": [
       "<Figure size 432x288 with 1 Axes>"
      ]
     },
     "metadata": {},
     "output_type": "display_data"
    }
   ],
   "source": [
    "y=['Neutral' , 'Negative' , 'Positive']\n",
    "plt.pie(sentiment_count , labels=y, autopct='%0.1f%%' )\n",
    "circle=plt.Circle((0,0),0.4, facecolor='white')\n",
    "plt.gca().add_patch(circle)\n",
    "plt.legend(bbox_to_anchor=(1.05, 1), loc='upper left')\n",
    "plt.show()"
   ]
  },
  {
   "cell_type": "code",
   "execution_count": 19,
   "id": "78175599",
   "metadata": {},
   "outputs": [
    {
     "data": {
      "text/plain": [
       "array(['Borderlands', 'CallOfDutyBlackopsColdWar', 'Amazon', 'Overwatch',\n",
       "       'Xbox(Xseries)', 'NBA2K', 'Dota2', 'PlayStation5(PS5)',\n",
       "       'WorldOfCraft', 'CS-GO', 'Google', 'AssassinsCreed', 'ApexLegends',\n",
       "       'LeagueOfLegends', 'Fortnite', 'Microsoft', 'Hearthstone',\n",
       "       'Battlefield', 'PlayerUnknownsBattlegrounds(PUBG)', 'Verizon',\n",
       "       'HomeDepot', 'FIFA', 'RedDeadRedemption(RDR)', 'CallOfDuty',\n",
       "       'TomClancysRainbowSix', 'Facebook', 'GrandTheftAuto(GTA)',\n",
       "       'MaddenNFL', 'johnson&johnson', 'Cyberpunk2077',\n",
       "       'TomClancysGhostRecon', 'Nvidia'], dtype=object)"
      ]
     },
     "execution_count": 19,
     "metadata": {},
     "output_type": "execute_result"
    }
   ],
   "source": [
    "df_train.Entity.unique()"
   ]
  },
  {
   "cell_type": "code",
   "execution_count": 20,
   "id": "922e0615",
   "metadata": {},
   "outputs": [
    {
     "data": {
      "text/plain": [
       "MaddenNFL                            2377\n",
       "LeagueOfLegends                      2377\n",
       "CallOfDuty                           2376\n",
       "Verizon                              2365\n",
       "TomClancysRainbowSix                 2364\n",
       "Facebook                             2362\n",
       "Microsoft                            2361\n",
       "Dota2                                2359\n",
       "WorldOfCraft                         2357\n",
       "ApexLegends                          2353\n",
       "NBA2K                                2343\n",
       "CallOfDutyBlackopsColdWar            2343\n",
       "FIFA                                 2324\n",
       "johnson&johnson                      2324\n",
       "TomClancysGhostRecon                 2321\n",
       "Battlefield                          2316\n",
       "Overwatch                            2316\n",
       "GrandTheftAuto(GTA)                  2293\n",
       "HomeDepot                            2292\n",
       "PlayStation5(PS5)                    2291\n",
       "Hearthstone                          2286\n",
       "CS-GO                                2284\n",
       "Xbox(Xseries)                        2283\n",
       "Borderlands                          2279\n",
       "Amazon                               2276\n",
       "Google                               2274\n",
       "Nvidia                               2271\n",
       "Cyberpunk2077                        2262\n",
       "RedDeadRedemption(RDR)               2249\n",
       "Fortnite                             2249\n",
       "PlayerUnknownsBattlegrounds(PUBG)    2234\n",
       "AssassinsCreed                       2234\n",
       "Name: Entity, dtype: int64"
      ]
     },
     "execution_count": 20,
     "metadata": {},
     "output_type": "execute_result"
    }
   ],
   "source": [
    "Entity_count=df_train.Entity.value_counts()\n",
    "Entity_count"
   ]
  },
  {
   "cell_type": "code",
   "execution_count": 21,
   "id": "4787a518",
   "metadata": {},
   "outputs": [],
   "source": [
    "Entity_sort=Entity_count.sort_values(ascending=False)"
   ]
  },
  {
   "cell_type": "code",
   "execution_count": 22,
   "id": "7f43a6db",
   "metadata": {},
   "outputs": [
    {
     "data": {
      "text/plain": [
       "MaddenNFL               2377\n",
       "LeagueOfLegends         2377\n",
       "CallOfDuty              2376\n",
       "Verizon                 2365\n",
       "TomClancysRainbowSix    2364\n",
       "Facebook                2362\n",
       "Microsoft               2361\n",
       "Dota2                   2359\n",
       "WorldOfCraft            2357\n",
       "ApexLegends             2353\n",
       "Name: Entity, dtype: int64"
      ]
     },
     "execution_count": 22,
     "metadata": {},
     "output_type": "execute_result"
    }
   ],
   "source": [
    "Entity_top10=Entity_sort.head(10)\n",
    "Entity_top10"
   ]
  },
  {
   "cell_type": "code",
   "execution_count": 23,
   "id": "a182c007",
   "metadata": {},
   "outputs": [],
   "source": [
    "Entity_index=Entity_top10.index"
   ]
  },
  {
   "cell_type": "code",
   "execution_count": 24,
   "id": "29377d12",
   "metadata": {},
   "outputs": [
    {
     "data": {
      "image/png": "[encoded data removed]",
      "text/plain": [
       "<Figure size 936x360 with 1 Axes>"
      ]
     },
     "metadata": {
      "needs_background": "light"
     },
     "output_type": "display_data"
    }
   ],
   "source": [
    "plt.figure(figsize=(13,5))\n",
    "\n",
    "x=['ApexLegends' , 'WorldOfCraft' , 'Dota2' , 'Microsoft' , 'Facebook' , 'TomClancysRainbowSix' , 'Verizon' , 'CallOfDuty' , 'LeagueOfLegends' , 'MaddenNFL']\n",
    "y=[2353,2357,2359,2361,2362,2364,2365,2367,2377,2377]\n",
    "\n",
    "plt.bar( x , y , alpha=0.7 , color='#0000FF')\n",
    "\n",
    "for i,v in enumerate(y):\n",
    "    plt.text(i,v,str(v),ha='center',weight='bold' )\n",
    "    \n",
    "plt.xticks(rotation=45)\n",
    "plt.xlabel('Entity')\n",
    "plt.ylabel('Number of Post in twitter')\n",
    "plt.show()"
   ]
  },
  {
   "cell_type": "code",
   "execution_count": 25,
   "id": "64cdf468",
   "metadata": {},
   "outputs": [
    {
     "data": {
      "text/plain": [
       "MaddenNFL          2377\n",
       "LeagueOfLegends    2377\n",
       "CallOfDuty         2376\n",
       "Name: Entity, dtype: int64"
      ]
     },
     "execution_count": 25,
     "metadata": {},
     "output_type": "execute_result"
    }
   ],
   "source": [
    "Entity_top3_df=Entity_sort.head(3)\n",
    "Entity_top3_df\n"
   ]
  },
  {
   "cell_type": "code",
   "execution_count": 26,
   "id": "38c3fb1f",
   "metadata": {},
   "outputs": [
    {
     "data": {
      "text/plain": [
       "['MaddenNFL', 'LeagueOfLegends', 'CallOfDuty']"
      ]
     },
     "execution_count": 26,
     "metadata": {},
     "output_type": "execute_result"
    }
   ],
   "source": [
    "Entity_top3=Entity_top3_df.index.tolist()\n",
    "Entity_top3"
   ]
  },
  {
   "cell_type": "code",
   "execution_count": 27,
   "id": "14ffbd2f",
   "metadata": {},
   "outputs": [
    {
     "data": {
      "text/plain": [
       "Entity           Sentiment\n",
       "CallOfDuty       Negative      883\n",
       "                 Neutral      1047\n",
       "                 Positive      446\n",
       "LeagueOfLegends  Negative      632\n",
       "                 Neutral      1130\n",
       "                 Positive      615\n",
       "MaddenNFL        Negative     1694\n",
       "                 Neutral       287\n",
       "                 Positive      396\n",
       "Name: Sentiment, dtype: int64"
      ]
     },
     "execution_count": 27,
     "metadata": {},
     "output_type": "execute_result"
    }
   ],
   "source": [
    "sentiment_by_entity=df_train.loc[df_train['Entity'].isin(Entity_top3)].groupby('Entity')['Sentiment'].value_counts().sort_index()\n",
    "sentiment_by_entity"
   ]
  },
  {
   "cell_type": "code",
   "execution_count": 28,
   "id": "be1508d3",
   "metadata": {},
   "outputs": [
    {
     "data": {
      "text/plain": [
       "<matplotlib.legend.Legend at 0x26050a6c160>"
      ]
     },
     "execution_count": 28,
     "metadata": {},
     "output_type": "execute_result"
    },
    {
     "data": {
      "image/png": "[encoded data removed]",
      "text/plain": [
       "<Figure size 720x360 with 3 Axes>"
      ]
     },
     "metadata": {},
     "output_type": "display_data"
    }
   ],
   "source": [
    "plt.figure(figsize=(10,5))\n",
    "\n",
    "y=['Neutral' , 'Negative' , 'Positive']\n",
    "color=['#C7395F' , '#DED4E8' , '#E8BA40']\n",
    "\n",
    "plt.subplot(1,3,1)\n",
    "plt.pie(sentiment_by_entity[:3] , labels=y , autopct='%0.1f%%' , textprops={'fontsize':10} , colors=color)\n",
    "\n",
    "plt.subplot(1,3,2)\n",
    "plt.pie(sentiment_by_entity[3:6] , labels=y , autopct='%0.1f%%' , textprops={'fontsize':10} , colors=color)\n",
    "\n",
    "plt.subplot(1,3,3)\n",
    "plt.pie(sentiment_by_entity[6:] , labels=y , autopct='%0.1f%%' , textprops={'fontsize':10} , colors=color)\n",
    "\n",
    "plt.legend(bbox_to_anchor=(1.05, 1), loc='upper left' , fontsize=\"10\")"
   ]
  },
  {
   "cell_type": "code",
   "execution_count": null,
   "id": "3ea2acc1",
   "metadata": {},
   "outputs": [],
   "source": []
  }
 ],
 "metadata": {
  "kernelspec": {
   "display_name": "Python 3 (ipykernel)",
   "language": "python",
   "name": "python3"
  },
  "language_info": {
   "codemirror_mode": {
    "name": "ipython",
    "version": 3
   },
   "file_extension": ".py",
   "mimetype": "text/x-python",
   "name": "python",
   "nbconvert_exporter": "python",
   "pygments_lexer": "ipython3",
   "version": "3.9.12"
  }
 },
 "nbformat": 4,
 "nbformat_minor": 5
}
